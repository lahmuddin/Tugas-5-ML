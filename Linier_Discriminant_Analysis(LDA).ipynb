{
  "nbformat": 4,
  "nbformat_minor": 0,
  "metadata": {
    "colab": {
      "name": "Linier Discriminant Analysis(LDA).ipynb",
      "provenance": [],
      "collapsed_sections": [],
      "authorship_tag": "ABX9TyNFLelFdNfkHtjgOvDLweH1",
      "include_colab_link": true
    },
    "kernelspec": {
      "name": "python3",
      "display_name": "Python 3"
    },
    "language_info": {
      "name": "python"
    }
  },
  "cells": [
    {
      "cell_type": "markdown",
      "metadata": {
        "id": "view-in-github",
        "colab_type": "text"
      },
      "source": [
        "<a href=\"https://colab.research.google.com/github/lahmuddin/Tugas-5-ML/blob/main/Linier_Discriminant_Analysis(LDA).ipynb\" target=\"_parent\"><img src=\"https://colab.research.google.com/assets/colab-badge.svg\" alt=\"Open In Colab\"/></a>"
      ]
    },
    {
      "cell_type": "markdown",
      "metadata": {
        "id": "ikelLoERCKU9"
      },
      "source": [
        "**Lahmuddin_1103184028_TK-42-G6**"
      ]
    },
    {
      "cell_type": "markdown",
      "metadata": {
        "id": "B8hu5HGIDNvF"
      },
      "source": [
        "https://scikit-learn.org/stable/auto_examples/decomposition/plot_pca_vs_lda.html?highlight=principal%20components%20analysis\n",
        "#LDA projection of Iris dataset\n",
        "The Iris dataset represents 3 kind of Iris flowers (Setosa, Versicolour and Virginica) with 4 attributes: sepal length, sepal width, petal length and petal width. Linear Discriminant Analysis (LDA) tries to identify attributes that account for the most variance between classes."
      ]
    },
    {
      "cell_type": "code",
      "metadata": {
        "id": "Mth8MoHy_2LX"
      },
      "source": [
        "import matplotlib.pyplot as plt\n",
        "\n",
        "from sklearn import datasets\n",
        "from sklearn.decomposition import PCA\n",
        "from sklearn.discriminant_analysis import LinearDiscriminantAnalysis as LDA\n",
        "iris = datasets.load_iris()"
      ],
      "execution_count": 1,
      "outputs": []
    },
    {
      "cell_type": "code",
      "metadata": {
        "colab": {
          "base_uri": "https://localhost:8080/",
          "height": 281
        },
        "id": "dkC3xXA2r3QB",
        "outputId": "a7064b6b-0f36-4e54-b490-362fbf967885"
      },
      "source": [
        "X = iris.data\n",
        "y = iris.target\n",
        "target_names = iris.target_names\n",
        "\n",
        "lda = LDA(n_components=2)\n",
        "X_r2 = lda.fit(X, y).transform(X)\n",
        "\n",
        "plt.figure()\n",
        "for c, i, target_name in zip(\"rgb\", [0, 1, 2], target_names):\n",
        "    plt.scatter(X_r2[y == i, 0], X_r2[y == i, 1], c=c, label=target_name)\n",
        "plt.legend()\n",
        "plt.title('LDA of IRIS dataset')\n",
        "\n",
        "plt.show()"
      ],
      "execution_count": 2,
      "outputs": [
        {
          "output_type": "display_data",
          "data": {
            "image/png": "[encoded data removed]",
            "text/plain": [
              "<Figure size 432x288 with 1 Axes>"
            ]
          },
          "metadata": {
            "needs_background": "light"
          }
        }
      ]
    },
    {
      "cell_type": "markdown",
      "metadata": {
        "id": "r4E3EdgNKi6V"
      },
      "source": [
        ""
      ]
    }
  ]
}